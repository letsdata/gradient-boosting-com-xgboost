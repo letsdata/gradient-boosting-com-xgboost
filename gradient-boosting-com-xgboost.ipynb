{
 "cells": [
  {
   "cell_type": "markdown",
   "id": "8d7dbb06",
   "metadata": {},
   "source": [
    "# <a>Gradient Boosting com XGBoost</a>\n",
    "\n"
   ]
  },
  {
   "cell_type": "markdown",
   "id": "ae216c2e",
   "metadata": {},
   "source": [
    "---\n",
    "\n",
    "O Let's Data produz conteúdos gratuitos sobre Data Science!\n",
    "\n",
    "Confira algumas das nossa produções:\n",
    "\n",
    "* [Livro Digital - Como se tornar um Cientista de Dados?](https://ebook.letsdata.ai/)\n",
    "* [Inscreva-se no canal no YouTube](https://www.youtube.com/c/LetsDataAI?sub_confirmation=1)\n",
    "* [Siga-nos no Instagram](https://www.instagram.com/letsdata.ai)\n",
    "* Ouça nosso Podcast no [Spotify](https://open.spotify.com/show/0VsNN95jsJVRS424eCFDlg?si=EvQ1KBq1SqGVD4ojHrx4eQ), [Google Podcast](https://podcasts.google.com/feed/aHR0cHM6Ly9mZWVkcy5idXp6c3Byb3V0LmNvbS8xNzMxMjUyLnJzcw), [Apple Podcasts](https://podcasts.apple.com/us/podcast/lets-data-podcast/id1559072194), [Castbox](https://castbox.fm/vic/1559072194), [Deezer](https://www.deezer.com/show/2770422) e demais players. \n",
    "* Também estamos no [LinkedIn](https://linkedin.com/company/lets-data), [Twitter](https://twitter.com/letsdataAI), [Facebook](https://www.facebook.com/letsdataAI/).\n",
    "* [Pra finalizar, nosso blog no Medium](https://medium.com/lets-data).\n",
    "\n",
    "---"
   ]
  },
  {
   "cell_type": "markdown",
   "id": "f34551a6",
   "metadata": {},
   "source": [
    "## Vamos pro conteúdo!"
   ]
  },
  {
   "cell_type": "markdown",
   "id": "5973660d",
   "metadata": {},
   "source": [
    "Queridinhos dos Kaggle Grandmasters, os algoritmos de gradient boosting dominam as aplicações práticas quando o assunto é machine learning para dados tabulares. Hoje veremos uma implementação muito utilizada, e mais badalada pelos grandes DS e MLE do mundo: XGBoost. Arquirrival do LightGBM e Catboost, o XGBBoost é tido como a melhor implementaçãod e gradient boosting disponível. Os títulos e prêmios do Kaggle demonstram claramente isso!\n",
    "\n",
    "Nessa demonstração vamos usar a API do XGBoost para scikit-learn, assim como fizemos no LightGBM. Existe uma API \"nativa\" que possui objetos e métodos diferentes, mas se estamos acostumados com os velhos fit, predict, cross_val's da vida, por que não utilizar?\n",
    "\n",
    "Caso queria aprender a API \"original\" segue o [link](https://xgboost.readthedocs.io/en/stable/get_started.html)\n",
    "\n",
    "Lembrando que precisamos instalar o pacote, já que não vem com o scikit learn! Vamos nessa!"
   ]
  },
  {
   "cell_type": "code",
   "execution_count": null,
   "id": "115ca48e",
   "metadata": {},
   "outputs": [],
   "source": [
    "#!pip install xgboost\n",
    "#!pip install notebook pandas seaborn scikit-learn"
   ]
  },
  {
   "cell_type": "code",
   "execution_count": 16,
   "id": "2d0949c4",
   "metadata": {},
   "outputs": [],
   "source": [
    "# Importando o xgboost\n",
    "import pandas as pd\n",
    "import numpy as np\n",
    "from sklearn.model_selection import train_test_split\n",
    "from sklearn import metrics\n",
    "import xgboost as xgb"
   ]
  },
  {
   "cell_type": "markdown",
   "id": "f23ae5c4",
   "metadata": {},
   "source": [
    "## <a> Carregando os dados para regressão e classificação </a> \n",
    "\n",
    "O foco vai ser em como utilizar o XGBoost, mais que nos problemas de regressão/classificação em si"
   ]
  },
  {
   "cell_type": "code",
   "execution_count": 2,
   "id": "df9a80ba",
   "metadata": {},
   "outputs": [
    {
     "data": {
      "text/html": [
       "<div>\n",
       "<style scoped>\n",
       "    .dataframe tbody tr th:only-of-type {\n",
       "        vertical-align: middle;\n",
       "    }\n",
       "\n",
       "    .dataframe tbody tr th {\n",
       "        vertical-align: top;\n",
       "    }\n",
       "\n",
       "    .dataframe thead th {\n",
       "        text-align: right;\n",
       "    }\n",
       "</style>\n",
       "<table border=\"1\" class=\"dataframe\">\n",
       "  <thead>\n",
       "    <tr style=\"text-align: right;\">\n",
       "      <th></th>\n",
       "      <th>sepal_length</th>\n",
       "      <th>sepal_width</th>\n",
       "      <th>petal_length</th>\n",
       "      <th>petal_width</th>\n",
       "      <th>species</th>\n",
       "    </tr>\n",
       "  </thead>\n",
       "  <tbody>\n",
       "    <tr>\n",
       "      <th>0</th>\n",
       "      <td>5.1</td>\n",
       "      <td>3.5</td>\n",
       "      <td>1.4</td>\n",
       "      <td>0.2</td>\n",
       "      <td>setosa</td>\n",
       "    </tr>\n",
       "    <tr>\n",
       "      <th>1</th>\n",
       "      <td>4.9</td>\n",
       "      <td>3.0</td>\n",
       "      <td>1.4</td>\n",
       "      <td>0.2</td>\n",
       "      <td>setosa</td>\n",
       "    </tr>\n",
       "    <tr>\n",
       "      <th>2</th>\n",
       "      <td>4.7</td>\n",
       "      <td>3.2</td>\n",
       "      <td>1.3</td>\n",
       "      <td>0.2</td>\n",
       "      <td>setosa</td>\n",
       "    </tr>\n",
       "    <tr>\n",
       "      <th>3</th>\n",
       "      <td>4.6</td>\n",
       "      <td>3.1</td>\n",
       "      <td>1.5</td>\n",
       "      <td>0.2</td>\n",
       "      <td>setosa</td>\n",
       "    </tr>\n",
       "    <tr>\n",
       "      <th>4</th>\n",
       "      <td>5.0</td>\n",
       "      <td>3.6</td>\n",
       "      <td>1.4</td>\n",
       "      <td>0.2</td>\n",
       "      <td>setosa</td>\n",
       "    </tr>\n",
       "  </tbody>\n",
       "</table>\n",
       "</div>"
      ],
      "text/plain": [
       "   sepal_length  sepal_width  petal_length  petal_width species\n",
       "0           5.1          3.5           1.4          0.2  setosa\n",
       "1           4.9          3.0           1.4          0.2  setosa\n",
       "2           4.7          3.2           1.3          0.2  setosa\n",
       "3           4.6          3.1           1.5          0.2  setosa\n",
       "4           5.0          3.6           1.4          0.2  setosa"
      ]
     },
     "execution_count": 2,
     "metadata": {},
     "output_type": "execute_result"
    }
   ],
   "source": [
    "import seaborn as sns\n",
    "\n",
    "df_iris = sns.load_dataset('iris')\n",
    "\n",
    "df_iris.head()"
   ]
  },
  {
   "cell_type": "code",
   "execution_count": 3,
   "id": "1b5da685",
   "metadata": {},
   "outputs": [
    {
     "data": {
      "text/plain": [
       "(150, 5)"
      ]
     },
     "execution_count": 3,
     "metadata": {},
     "output_type": "execute_result"
    }
   ],
   "source": [
    "df_iris.shape"
   ]
  },
  {
   "cell_type": "code",
   "execution_count": 4,
   "id": "3b6f694d",
   "metadata": {},
   "outputs": [
    {
     "data": {
      "text/plain": [
       "array(['setosa', 'versicolor', 'virginica'], dtype=object)"
      ]
     },
     "execution_count": 4,
     "metadata": {},
     "output_type": "execute_result"
    }
   ],
   "source": [
    "df_iris['species'].unique()"
   ]
  },
  {
   "cell_type": "code",
   "execution_count": 5,
   "id": "11300085",
   "metadata": {},
   "outputs": [
    {
     "data": {
      "text/plain": [
       "array([0, 1, 2], dtype=int64)"
      ]
     },
     "execution_count": 5,
     "metadata": {},
     "output_type": "execute_result"
    }
   ],
   "source": [
    "df_iris['species'] = df_iris['species'].map({'setosa':0 , 'versicolor': 1, 'virginica': 2})\n",
    "\n",
    "df_iris['species'].unique()"
   ]
  },
  {
   "cell_type": "code",
   "execution_count": 6,
   "id": "9a33c464",
   "metadata": {},
   "outputs": [
    {
     "data": {
      "text/plain": [
       "0    50\n",
       "1    50\n",
       "2    50\n",
       "Name: species, dtype: int64"
      ]
     },
     "execution_count": 6,
     "metadata": {},
     "output_type": "execute_result"
    }
   ],
   "source": [
    "df_iris['species'].value_counts()"
   ]
  },
  {
   "cell_type": "markdown",
   "id": "6a3cea60",
   "metadata": {},
   "source": [
    "## <a> Separando as bases </a>\n",
    "\n",
    "O foco é XGBoost, mas um splitzinho tem que rolar sempre!"
   ]
  },
  {
   "cell_type": "code",
   "execution_count": 7,
   "id": "d89a5c11",
   "metadata": {},
   "outputs": [],
   "source": [
    "# Separando X e y\n",
    "X_iris = df_iris.drop(['species'], axis=1)\n",
    "y_iris = df_iris['species']"
   ]
  },
  {
   "cell_type": "code",
   "execution_count": 8,
   "id": "a5796783",
   "metadata": {},
   "outputs": [],
   "source": [
    "X_iris_train, X_iris_test, y_iris_train, y_iris_test = train_test_split(X_iris, y_iris, random_state=42)"
   ]
  },
  {
   "cell_type": "code",
   "execution_count": 11,
   "id": "ee56b9a5",
   "metadata": {},
   "outputs": [
    {
     "data": {
      "text/plain": [
       "((112, 4), (38, 4))"
      ]
     },
     "execution_count": 11,
     "metadata": {},
     "output_type": "execute_result"
    }
   ],
   "source": [
    "X_iris_train.shape, X_iris_test.shape"
   ]
  },
  {
   "cell_type": "code",
   "execution_count": 13,
   "id": "3f01527e",
   "metadata": {},
   "outputs": [
    {
     "data": {
      "text/plain": [
       "0.25333333333333335"
      ]
     },
     "execution_count": 13,
     "metadata": {},
     "output_type": "execute_result"
    }
   ],
   "source": [
    "len(X_iris_test) / len(X_iris) "
   ]
  },
  {
   "cell_type": "markdown",
   "id": "742ee0bc",
   "metadata": {},
   "source": [
    "## <a> Criando o objeto com o classificador XGBoost </a>\n",
    "\n",
    "Veja o quanto é difícil #sqn"
   ]
  },
  {
   "cell_type": "code",
   "execution_count": 17,
   "id": "00c16cc0",
   "metadata": {},
   "outputs": [],
   "source": [
    "classificador_xgb = xgb.XGBClassifier()"
   ]
  },
  {
   "cell_type": "code",
   "execution_count": 18,
   "id": "1c4f8334",
   "metadata": {},
   "outputs": [
    {
     "data": {
      "text/plain": [
       "xgboost.sklearn.XGBClassifier"
      ]
     },
     "execution_count": 18,
     "metadata": {},
     "output_type": "execute_result"
    }
   ],
   "source": [
    "type(classificador_xgb)"
   ]
  },
  {
   "cell_type": "markdown",
   "id": "edbfa32c",
   "metadata": {},
   "source": [
    "### <a> Compatibilidade com scikit-learn </a>\n",
    "\n",
    "Olha que massa! O [XGBClassifier](https://xgboost.readthedocs.io/en/stable/python/python_api.html) é uma subclasse de *sklearn.base.ClassifierMixin*, ou seja, é compatível com sklearn. Podemos então utilizar o arcabouço do scikit learn, como métodos de CV, pipelines, etc..."
   ]
  },
  {
   "cell_type": "code",
   "execution_count": 21,
   "id": "26e201ed",
   "metadata": {},
   "outputs": [
    {
     "data": {
      "text/plain": [
       "array([0.95652174, 0.95652174, 0.86363636, 0.95454545, 0.95454545])"
      ]
     },
     "execution_count": 21,
     "metadata": {},
     "output_type": "execute_result"
    }
   ],
   "source": [
    "from sklearn.model_selection import cross_val_score\n",
    "\n",
    "# Funciona com scikit learn! <3\n",
    "resultado_cv = cross_val_score(classificador_xgb, X_iris_train, y_iris_train)\n",
    "\n",
    "resultado_cv"
   ]
  },
  {
   "cell_type": "code",
   "execution_count": 26,
   "id": "698c2b8b",
   "metadata": {},
   "outputs": [
    {
     "data": {
      "text/plain": [
       "0.9371541501976285"
      ]
     },
     "execution_count": 26,
     "metadata": {},
     "output_type": "execute_result"
    }
   ],
   "source": [
    "acuracia_cv = resultado_cv.mean()\n",
    "\n",
    "acuracia_cv"
   ]
  },
  {
   "cell_type": "code",
   "execution_count": 27,
   "id": "e5d20e87",
   "metadata": {},
   "outputs": [
    {
     "data": {
      "text/plain": [
       "93.71541501976284"
      ]
     },
     "execution_count": 27,
     "metadata": {},
     "output_type": "execute_result"
    }
   ],
   "source": [
    "acuracia_cv = 100 * acuracia_cv\n",
    "\n",
    "acuracia_cv"
   ]
  },
  {
   "cell_type": "markdown",
   "id": "f89f0553",
   "metadata": {},
   "source": [
    "### <a> Pequena tunagem! </a>\n",
    "\n",
    "O XGBoost permite alteração de vários hiperparâmetros, como learning rate, altura máxima das árvores, quantidade máxima de folhas nas árvores, número de árvores (estimadores), etc...\n",
    "\n",
    "Nosso foco não é em tunagem de hiperparâmetros, mas vamos mudar somente a altura máxima.\n",
    "\n",
    "Vamos aproveitar também para mostrar uma característica interessante do XGBBoost. Ele permite alterar a implementação do classificador! Podemos, por exemplo, utilizar random forest (bagging) ao invés de algoritmos de boosting! Vamos ver se melhora o resultado.\n",
    "\n",
    "Um notebook excelente para entender um montão de hiperparâmetros do XGBoost: [disponível no Kaggle](https://www.kaggle.com/code/prashant111/a-guide-on-xgboost-hyperparameters-tuning/notebook)\n",
    "\n",
    "Outro hiperparâmetro importante é a função de erro utilizada para otimização: objective \n",
    "\n",
    "Como o padrão para classificação é \"binary: logistic\" e para regressão \"reg:squarederror\". Mas quando passamos uma variável target com mais de duas classes ele muda automaticamente para \"multi:softprob\". Vamos ver!"
   ]
  },
  {
   "cell_type": "code",
   "execution_count": 30,
   "id": "f58c1e72",
   "metadata": {},
   "outputs": [
    {
     "data": {
      "text/plain": [
       "'binary:logistic'"
      ]
     },
     "execution_count": 30,
     "metadata": {},
     "output_type": "execute_result"
    }
   ],
   "source": [
    "clf = xgb.XGBClassifier()\n",
    "clf.objective"
   ]
  },
  {
   "cell_type": "code",
   "execution_count": 31,
   "id": "cbdbca18",
   "metadata": {},
   "outputs": [
    {
     "data": {
      "text/plain": [
       "'multi:softprob'"
      ]
     },
     "execution_count": 31,
     "metadata": {},
     "output_type": "execute_result"
    }
   ],
   "source": [
    "clf = xgb.XGBClassifier().fit(X_iris_train, y_iris_train)\n",
    "clf.objective"
   ]
  },
  {
   "cell_type": "markdown",
   "id": "a5fd13a9",
   "metadata": {},
   "source": [
    "Poderíamos também utilizar a multi:softmax, mas esta somente retorna a classe com maior probabilidade, enquanto a softprob entrega as probabilidades de todas as classes para cada predição"
   ]
  },
  {
   "cell_type": "code",
   "execution_count": 32,
   "id": "505ff6e8",
   "metadata": {},
   "outputs": [
    {
     "data": {
      "text/plain": [
       "92.84584980237153"
      ]
     },
     "execution_count": 32,
     "metadata": {},
     "output_type": "execute_result"
    }
   ],
   "source": [
    "classificador_xgb_tunado = xgb.XGBClassifier(max_depth=2)\n",
    "\n",
    "100 * cross_val_score(classificador_xgb_tunado, X_iris_train, y_iris_train).mean()"
   ]
  },
  {
   "cell_type": "markdown",
   "id": "7bf4b810",
   "metadata": {},
   "source": [
    "### <a> Tipos de classificador </a>\n",
    "\n",
    "Direto da [documentação](https://xgboost.readthedocs.io/en/stable/parameter.html): \n",
    "\n",
    "'gbtree', 'gblinear' ou 'dart' (gbtree and dart use tree based models while gblinear uses linear functions.)"
   ]
  },
  {
   "cell_type": "code",
   "execution_count": 33,
   "id": "e1d13c14",
   "metadata": {},
   "outputs": [
    {
     "data": {
      "text/plain": [
       "93.71541501976284"
      ]
     },
     "execution_count": 33,
     "metadata": {},
     "output_type": "execute_result"
    }
   ],
   "source": [
    "classificador_xgb_dart =  xgb.XGBClassifier(booster='dart')\n",
    "\n",
    "100 * cross_val_score(classificador_xgb_dart, X_iris_train, y_iris_train).mean()"
   ]
  },
  {
   "cell_type": "code",
   "execution_count": 34,
   "id": "751cc785",
   "metadata": {},
   "outputs": [
    {
     "data": {
      "text/plain": [
       "94.62450592885375"
      ]
     },
     "execution_count": 34,
     "metadata": {},
     "output_type": "execute_result"
    }
   ],
   "source": [
    "classificador_xgb_gblinear =  xgb.XGBClassifier(booster='gblinear')\n",
    "\n",
    "100 * cross_val_score(classificador_xgb_gblinear, X_iris_train, y_iris_train).mean()"
   ]
  },
  {
   "cell_type": "code",
   "execution_count": 35,
   "id": "4c38cf33",
   "metadata": {},
   "outputs": [],
   "source": [
    "# Capricho de legibilidade\n",
    "classificador_campeao = classificador_xgb_gblinear"
   ]
  },
  {
   "cell_type": "code",
   "execution_count": 36,
   "id": "0b3ee182",
   "metadata": {},
   "outputs": [
    {
     "data": {
      "text/plain": [
       "XGBClassifier(base_score=0.5, booster='gblinear', callbacks=None,\n",
       "              colsample_bylevel=None, colsample_bynode=None,\n",
       "              colsample_bytree=None, early_stopping_rounds=None,\n",
       "              enable_categorical=False, eval_metric=None, gamma=None, gpu_id=-1,\n",
       "              grow_policy=None, importance_type=None,\n",
       "              interaction_constraints=None, learning_rate=0.5, max_bin=None,\n",
       "              max_cat_to_onehot=None, max_delta_step=None, max_depth=None,\n",
       "              max_leaves=None, min_child_weight=None, missing=nan,\n",
       "              monotone_constraints=None, n_estimators=100, n_jobs=0,\n",
       "              num_parallel_tree=None, objective='multi:softprob',\n",
       "              predictor=None, random_state=0, reg_alpha=0, ...)"
      ]
     },
     "execution_count": 36,
     "metadata": {},
     "output_type": "execute_result"
    }
   ],
   "source": [
    "# Com o melhor modelo, podemos utilizar a base toda de treino\n",
    "classificador_campeao.fit(X_iris_train, y_iris_train)"
   ]
  },
  {
   "cell_type": "code",
   "execution_count": 37,
   "id": "aace8bcb",
   "metadata": {},
   "outputs": [
    {
     "data": {
      "text/plain": [
       "array([1, 0, 2, 1, 1, 0, 1, 2, 1, 1], dtype=int64)"
      ]
     },
     "execution_count": 37,
     "metadata": {},
     "output_type": "execute_result"
    }
   ],
   "source": [
    "# Podemos realizar a predição da base de teste!\n",
    "predicoes_iris = classificador_campeao.predict(X_iris_test)\n",
    "\n",
    "predicoes_iris[:10]"
   ]
  },
  {
   "cell_type": "code",
   "execution_count": 39,
   "id": "6d3bcd4c",
   "metadata": {},
   "outputs": [
    {
     "data": {
      "text/plain": [
       "pandas.core.series.Series"
      ]
     },
     "execution_count": 39,
     "metadata": {},
     "output_type": "execute_result"
    }
   ],
   "source": [
    "type(y_iris_test)"
   ]
  },
  {
   "cell_type": "code",
   "execution_count": 38,
   "id": "11f45ab9",
   "metadata": {
    "scrolled": true
   },
   "outputs": [
    {
     "data": {
      "text/plain": [
       "73     1\n",
       "18     0\n",
       "118    2\n",
       "78     1\n",
       "76     1\n",
       "31     0\n",
       "64     1\n",
       "141    2\n",
       "68     1\n",
       "82     1\n",
       "110    2\n",
       "12     0\n",
       "36     0\n",
       "9      0\n",
       "19     0\n",
       "56     1\n",
       "104    2\n",
       "69     1\n",
       "55     1\n",
       "132    2\n",
       "29     0\n",
       "127    2\n",
       "26     0\n",
       "128    2\n",
       "131    2\n",
       "145    2\n",
       "108    2\n",
       "143    2\n",
       "45     0\n",
       "30     0\n",
       "22     0\n",
       "15     0\n",
       "65     1\n",
       "11     0\n",
       "42     0\n",
       "146    2\n",
       "51     1\n",
       "27     0\n",
       "Name: species, dtype: int64"
      ]
     },
     "execution_count": 38,
     "metadata": {},
     "output_type": "execute_result"
    }
   ],
   "source": [
    "y_iris_test"
   ]
  },
  {
   "cell_type": "code",
   "execution_count": 40,
   "id": "5c630340",
   "metadata": {},
   "outputs": [
    {
     "data": {
      "text/plain": [
       "38"
      ]
     },
     "execution_count": 40,
     "metadata": {},
     "output_type": "execute_result"
    }
   ],
   "source": [
    "# Calculando o número de acertos\n",
    "(predicoes_iris == y_iris_test).sum()"
   ]
  },
  {
   "cell_type": "code",
   "execution_count": 41,
   "id": "56789c8a",
   "metadata": {},
   "outputs": [
    {
     "data": {
      "text/plain": [
       "38"
      ]
     },
     "execution_count": 41,
     "metadata": {},
     "output_type": "execute_result"
    }
   ],
   "source": [
    "# Mas qual o tamanho da base de teste?\n",
    "len(y_iris_test)"
   ]
  },
  {
   "cell_type": "code",
   "execution_count": 42,
   "id": "1a7ffe1b",
   "metadata": {},
   "outputs": [
    {
     "data": {
      "text/plain": [
       "100.0"
      ]
     },
     "execution_count": 42,
     "metadata": {},
     "output_type": "execute_result"
    }
   ],
   "source": [
    "acertos = (predicoes_iris == y_iris_test).sum()\n",
    "total_observacoes = len(y_iris_test)\n",
    "\n",
    "acuracia = 100 * acertos / total_observacoes\n",
    "\n",
    "acuracia"
   ]
  },
  {
   "cell_type": "markdown",
   "id": "2e7893f8",
   "metadata": {},
   "source": [
    "## <a> Vamos de Regressão? </a>\n",
    "\n",
    "Bem rapidinho porque é praticamente a mesma coisa, mudando só o objeto de XGBClassifier para XGBRegressor"
   ]
  },
  {
   "cell_type": "code",
   "execution_count": 43,
   "id": "e1f2a13f",
   "metadata": {},
   "outputs": [
    {
     "data": {
      "text/html": [
       "<div>\n",
       "<style scoped>\n",
       "    .dataframe tbody tr th:only-of-type {\n",
       "        vertical-align: middle;\n",
       "    }\n",
       "\n",
       "    .dataframe tbody tr th {\n",
       "        vertical-align: top;\n",
       "    }\n",
       "\n",
       "    .dataframe thead th {\n",
       "        text-align: right;\n",
       "    }\n",
       "</style>\n",
       "<table border=\"1\" class=\"dataframe\">\n",
       "  <thead>\n",
       "    <tr style=\"text-align: right;\">\n",
       "      <th></th>\n",
       "      <th>mpg</th>\n",
       "      <th>cylinders</th>\n",
       "      <th>displacement</th>\n",
       "      <th>horsepower</th>\n",
       "      <th>weight</th>\n",
       "      <th>acceleration</th>\n",
       "      <th>model_year</th>\n",
       "      <th>origin</th>\n",
       "      <th>name</th>\n",
       "    </tr>\n",
       "  </thead>\n",
       "  <tbody>\n",
       "    <tr>\n",
       "      <th>0</th>\n",
       "      <td>18.0</td>\n",
       "      <td>8</td>\n",
       "      <td>307.0</td>\n",
       "      <td>130.0</td>\n",
       "      <td>3504</td>\n",
       "      <td>12.0</td>\n",
       "      <td>70</td>\n",
       "      <td>usa</td>\n",
       "      <td>chevrolet chevelle malibu</td>\n",
       "    </tr>\n",
       "    <tr>\n",
       "      <th>1</th>\n",
       "      <td>15.0</td>\n",
       "      <td>8</td>\n",
       "      <td>350.0</td>\n",
       "      <td>165.0</td>\n",
       "      <td>3693</td>\n",
       "      <td>11.5</td>\n",
       "      <td>70</td>\n",
       "      <td>usa</td>\n",
       "      <td>buick skylark 320</td>\n",
       "    </tr>\n",
       "    <tr>\n",
       "      <th>2</th>\n",
       "      <td>18.0</td>\n",
       "      <td>8</td>\n",
       "      <td>318.0</td>\n",
       "      <td>150.0</td>\n",
       "      <td>3436</td>\n",
       "      <td>11.0</td>\n",
       "      <td>70</td>\n",
       "      <td>usa</td>\n",
       "      <td>plymouth satellite</td>\n",
       "    </tr>\n",
       "    <tr>\n",
       "      <th>3</th>\n",
       "      <td>16.0</td>\n",
       "      <td>8</td>\n",
       "      <td>304.0</td>\n",
       "      <td>150.0</td>\n",
       "      <td>3433</td>\n",
       "      <td>12.0</td>\n",
       "      <td>70</td>\n",
       "      <td>usa</td>\n",
       "      <td>amc rebel sst</td>\n",
       "    </tr>\n",
       "    <tr>\n",
       "      <th>4</th>\n",
       "      <td>17.0</td>\n",
       "      <td>8</td>\n",
       "      <td>302.0</td>\n",
       "      <td>140.0</td>\n",
       "      <td>3449</td>\n",
       "      <td>10.5</td>\n",
       "      <td>70</td>\n",
       "      <td>usa</td>\n",
       "      <td>ford torino</td>\n",
       "    </tr>\n",
       "  </tbody>\n",
       "</table>\n",
       "</div>"
      ],
      "text/plain": [
       "    mpg  cylinders  displacement  horsepower  weight  acceleration  \\\n",
       "0  18.0          8         307.0       130.0    3504          12.0   \n",
       "1  15.0          8         350.0       165.0    3693          11.5   \n",
       "2  18.0          8         318.0       150.0    3436          11.0   \n",
       "3  16.0          8         304.0       150.0    3433          12.0   \n",
       "4  17.0          8         302.0       140.0    3449          10.5   \n",
       "\n",
       "   model_year origin                       name  \n",
       "0          70    usa  chevrolet chevelle malibu  \n",
       "1          70    usa          buick skylark 320  \n",
       "2          70    usa         plymouth satellite  \n",
       "3          70    usa              amc rebel sst  \n",
       "4          70    usa                ford torino  "
      ]
     },
     "execution_count": 43,
     "metadata": {},
     "output_type": "execute_result"
    }
   ],
   "source": [
    "# Vamos tentar prever o consumo dos carros a partir de suas features\n",
    "df_mpg = sns.load_dataset('mpg')\n",
    "\n",
    "df_mpg.head()"
   ]
  },
  {
   "cell_type": "code",
   "execution_count": 44,
   "id": "17413be2",
   "metadata": {},
   "outputs": [
    {
     "data": {
      "text/plain": [
       "(398, 9)"
      ]
     },
     "execution_count": 44,
     "metadata": {},
     "output_type": "execute_result"
    }
   ],
   "source": [
    "df_mpg.shape"
   ]
  },
  {
   "cell_type": "code",
   "execution_count": 45,
   "id": "3d2beb9d",
   "metadata": {},
   "outputs": [
    {
     "data": {
      "text/html": [
       "<div>\n",
       "<style scoped>\n",
       "    .dataframe tbody tr th:only-of-type {\n",
       "        vertical-align: middle;\n",
       "    }\n",
       "\n",
       "    .dataframe tbody tr th {\n",
       "        vertical-align: top;\n",
       "    }\n",
       "\n",
       "    .dataframe thead th {\n",
       "        text-align: right;\n",
       "    }\n",
       "</style>\n",
       "<table border=\"1\" class=\"dataframe\">\n",
       "  <thead>\n",
       "    <tr style=\"text-align: right;\">\n",
       "      <th></th>\n",
       "      <th>mpg</th>\n",
       "      <th>cylinders</th>\n",
       "      <th>displacement</th>\n",
       "      <th>horsepower</th>\n",
       "      <th>weight</th>\n",
       "      <th>acceleration</th>\n",
       "      <th>model_year</th>\n",
       "    </tr>\n",
       "  </thead>\n",
       "  <tbody>\n",
       "    <tr>\n",
       "      <th>count</th>\n",
       "      <td>398.000000</td>\n",
       "      <td>398.000000</td>\n",
       "      <td>398.000000</td>\n",
       "      <td>392.000000</td>\n",
       "      <td>398.000000</td>\n",
       "      <td>398.000000</td>\n",
       "      <td>398.000000</td>\n",
       "    </tr>\n",
       "    <tr>\n",
       "      <th>mean</th>\n",
       "      <td>23.514573</td>\n",
       "      <td>5.454774</td>\n",
       "      <td>193.425879</td>\n",
       "      <td>104.469388</td>\n",
       "      <td>2970.424623</td>\n",
       "      <td>15.568090</td>\n",
       "      <td>76.010050</td>\n",
       "    </tr>\n",
       "    <tr>\n",
       "      <th>std</th>\n",
       "      <td>7.815984</td>\n",
       "      <td>1.701004</td>\n",
       "      <td>104.269838</td>\n",
       "      <td>38.491160</td>\n",
       "      <td>846.841774</td>\n",
       "      <td>2.757689</td>\n",
       "      <td>3.697627</td>\n",
       "    </tr>\n",
       "    <tr>\n",
       "      <th>min</th>\n",
       "      <td>9.000000</td>\n",
       "      <td>3.000000</td>\n",
       "      <td>68.000000</td>\n",
       "      <td>46.000000</td>\n",
       "      <td>1613.000000</td>\n",
       "      <td>8.000000</td>\n",
       "      <td>70.000000</td>\n",
       "    </tr>\n",
       "    <tr>\n",
       "      <th>25%</th>\n",
       "      <td>17.500000</td>\n",
       "      <td>4.000000</td>\n",
       "      <td>104.250000</td>\n",
       "      <td>75.000000</td>\n",
       "      <td>2223.750000</td>\n",
       "      <td>13.825000</td>\n",
       "      <td>73.000000</td>\n",
       "    </tr>\n",
       "    <tr>\n",
       "      <th>50%</th>\n",
       "      <td>23.000000</td>\n",
       "      <td>4.000000</td>\n",
       "      <td>148.500000</td>\n",
       "      <td>93.500000</td>\n",
       "      <td>2803.500000</td>\n",
       "      <td>15.500000</td>\n",
       "      <td>76.000000</td>\n",
       "    </tr>\n",
       "    <tr>\n",
       "      <th>75%</th>\n",
       "      <td>29.000000</td>\n",
       "      <td>8.000000</td>\n",
       "      <td>262.000000</td>\n",
       "      <td>126.000000</td>\n",
       "      <td>3608.000000</td>\n",
       "      <td>17.175000</td>\n",
       "      <td>79.000000</td>\n",
       "    </tr>\n",
       "    <tr>\n",
       "      <th>max</th>\n",
       "      <td>46.600000</td>\n",
       "      <td>8.000000</td>\n",
       "      <td>455.000000</td>\n",
       "      <td>230.000000</td>\n",
       "      <td>5140.000000</td>\n",
       "      <td>24.800000</td>\n",
       "      <td>82.000000</td>\n",
       "    </tr>\n",
       "  </tbody>\n",
       "</table>\n",
       "</div>"
      ],
      "text/plain": [
       "              mpg   cylinders  displacement  horsepower       weight  \\\n",
       "count  398.000000  398.000000    398.000000  392.000000   398.000000   \n",
       "mean    23.514573    5.454774    193.425879  104.469388  2970.424623   \n",
       "std      7.815984    1.701004    104.269838   38.491160   846.841774   \n",
       "min      9.000000    3.000000     68.000000   46.000000  1613.000000   \n",
       "25%     17.500000    4.000000    104.250000   75.000000  2223.750000   \n",
       "50%     23.000000    4.000000    148.500000   93.500000  2803.500000   \n",
       "75%     29.000000    8.000000    262.000000  126.000000  3608.000000   \n",
       "max     46.600000    8.000000    455.000000  230.000000  5140.000000   \n",
       "\n",
       "       acceleration  model_year  \n",
       "count    398.000000  398.000000  \n",
       "mean      15.568090   76.010050  \n",
       "std        2.757689    3.697627  \n",
       "min        8.000000   70.000000  \n",
       "25%       13.825000   73.000000  \n",
       "50%       15.500000   76.000000  \n",
       "75%       17.175000   79.000000  \n",
       "max       24.800000   82.000000  "
      ]
     },
     "execution_count": 45,
     "metadata": {},
     "output_type": "execute_result"
    }
   ],
   "source": [
    "df_mpg.describe()"
   ]
  },
  {
   "cell_type": "code",
   "execution_count": 46,
   "id": "ee9e6063",
   "metadata": {},
   "outputs": [],
   "source": [
    "# Leon é preguiçoso e tirou origin e name\n",
    "X_mpg = df_mpg.drop(['mpg', 'origin', 'name'], axis=1)\n",
    "y_mpg = df_mpg['mpg']"
   ]
  },
  {
   "cell_type": "code",
   "execution_count": 47,
   "id": "b98a9665",
   "metadata": {},
   "outputs": [],
   "source": [
    "X_mpg_train, X_mpg_test, y_mpg_train, y_mpg_test = train_test_split(X_mpg, y_mpg, random_state=42)"
   ]
  },
  {
   "cell_type": "markdown",
   "id": "60097f74",
   "metadata": {},
   "source": [
    "### <a> E a função objetivo? </a>\n",
    "\n",
    "Lembram que existe o hiperparametro objective que determina a função de erro a ser utilizada para otimização.\n",
    "\n",
    "Somente checando o padrão para a regressão.\n",
    "    "
   ]
  },
  {
   "cell_type": "code",
   "execution_count": 48,
   "id": "56ed6552",
   "metadata": {},
   "outputs": [
    {
     "data": {
      "text/plain": [
       "'reg:squarederror'"
      ]
     },
     "execution_count": 48,
     "metadata": {},
     "output_type": "execute_result"
    }
   ],
   "source": [
    "clf = xgb.XGBRegressor()\n",
    "clf.objective"
   ]
  },
  {
   "cell_type": "code",
   "execution_count": 49,
   "id": "3bf8f4cd",
   "metadata": {},
   "outputs": [],
   "source": [
    "# Agora sim! Bem facinho, só mudar de XGBClassifier para XGBRegressor\n",
    "regressor_xgb = xgb.XGBRegressor()"
   ]
  },
  {
   "cell_type": "code",
   "execution_count": 50,
   "id": "6bb1d92c",
   "metadata": {},
   "outputs": [
    {
     "data": {
      "text/plain": [
       "XGBRegressor(base_score=None, booster=None, callbacks=None,\n",
       "             colsample_bylevel=None, colsample_bynode=None,\n",
       "             colsample_bytree=None, early_stopping_rounds=None,\n",
       "             enable_categorical=False, eval_metric=None, gamma=None,\n",
       "             gpu_id=None, grow_policy=None, importance_type=None,\n",
       "             interaction_constraints=None, learning_rate=None, max_bin=None,\n",
       "             max_cat_to_onehot=None, max_delta_step=None, max_depth=None,\n",
       "             max_leaves=None, min_child_weight=None, missing=nan,\n",
       "             monotone_constraints=None, n_estimators=100, n_jobs=None,\n",
       "             num_parallel_tree=None, predictor=None, random_state=None,\n",
       "             reg_alpha=None, reg_lambda=None, ...)"
      ]
     },
     "execution_count": 50,
     "metadata": {},
     "output_type": "execute_result"
    }
   ],
   "source": [
    "regressor_xgb"
   ]
  },
  {
   "cell_type": "code",
   "execution_count": 51,
   "id": "38a16b3d",
   "metadata": {},
   "outputs": [
    {
     "data": {
      "text/plain": [
       "'reg:squarederror'"
      ]
     },
     "execution_count": 51,
     "metadata": {},
     "output_type": "execute_result"
    }
   ],
   "source": [
    "regressor_xgb.objective"
   ]
  },
  {
   "cell_type": "code",
   "execution_count": 52,
   "id": "c5ae9373",
   "metadata": {},
   "outputs": [
    {
     "data": {
      "text/plain": [
       "-3.1598072730534854"
      ]
     },
     "execution_count": 52,
     "metadata": {},
     "output_type": "execute_result"
    }
   ],
   "source": [
    "cross_val_score(regressor_xgb, X_mpg_train, y_mpg_train, scoring='neg_root_mean_squared_error').mean()"
   ]
  },
  {
   "cell_type": "code",
   "execution_count": 53,
   "id": "e4452dee",
   "metadata": {},
   "outputs": [
    {
     "data": {
      "text/plain": [
       "-3.1923225740762793"
      ]
     },
     "execution_count": 53,
     "metadata": {},
     "output_type": "execute_result"
    }
   ],
   "source": [
    "regressor_xgb_tunado = xgb.XGBRegressor(max_depth=2)\n",
    "\n",
    "cross_val_score(regressor_xgb_tunado, X_mpg_train, y_mpg_train, scoring='neg_root_mean_squared_error').mean()"
   ]
  },
  {
   "cell_type": "code",
   "execution_count": 54,
   "id": "b1ff5a33",
   "metadata": {},
   "outputs": [
    {
     "data": {
      "text/plain": [
       "-4.233149423803371"
      ]
     },
     "execution_count": 54,
     "metadata": {},
     "output_type": "execute_result"
    }
   ],
   "source": [
    "regressor_xgb_gblinear =  xgb.XGBRegressor(booster='gblinear')\n",
    "\n",
    "cross_val_score(regressor_xgb_gblinear, X_mpg_train, y_mpg_train, scoring='neg_root_mean_squared_error').mean()"
   ]
  },
  {
   "cell_type": "code",
   "execution_count": 55,
   "id": "090a2614",
   "metadata": {},
   "outputs": [],
   "source": [
    "regressor_campeao = regressor_xgb"
   ]
  },
  {
   "cell_type": "code",
   "execution_count": 57,
   "id": "ac8cc34b",
   "metadata": {},
   "outputs": [
    {
     "data": {
      "text/plain": [
       "XGBRegressor(base_score=0.5, booster='gbtree', callbacks=None,\n",
       "             colsample_bylevel=1, colsample_bynode=1, colsample_bytree=1,\n",
       "             early_stopping_rounds=None, enable_categorical=False,\n",
       "             eval_metric='rmsle', gamma=0, gpu_id=-1, grow_policy='depthwise',\n",
       "             importance_type=None, interaction_constraints='',\n",
       "             learning_rate=0.300000012, max_bin=256, max_cat_to_onehot=4,\n",
       "             max_delta_step=0, max_depth=6, max_leaves=0, min_child_weight=1,\n",
       "             missing=nan, monotone_constraints='()', n_estimators=100, n_jobs=0,\n",
       "             num_parallel_tree=1, predictor='auto', random_state=0, reg_alpha=0,\n",
       "             reg_lambda=1, ...)"
      ]
     },
     "execution_count": 57,
     "metadata": {},
     "output_type": "execute_result"
    }
   ],
   "source": [
    "regressor_campeao = xgb.XGBRegressor(eval_metric='rmsle')\n",
    "\n",
    "regressor_campeao.fit(X_mpg_train,y_mpg_train)"
   ]
  },
  {
   "cell_type": "code",
   "execution_count": 58,
   "id": "19d5af7a",
   "metadata": {},
   "outputs": [
    {
     "data": {
      "text/plain": [
       "array([30.606602, 30.937365, 21.048904, 14.121838, 13.470102, 24.374348,\n",
       "       29.221304, 11.992093, 16.482681, 15.383792], dtype=float32)"
      ]
     },
     "execution_count": 58,
     "metadata": {},
     "output_type": "execute_result"
    }
   ],
   "source": [
    "predicoes_mpg = regressor_campeao.predict(X_mpg_test)\n",
    "\n",
    "predicoes_mpg[:10]"
   ]
  },
  {
   "cell_type": "code",
   "execution_count": 59,
   "id": "1bdaa030",
   "metadata": {},
   "outputs": [
    {
     "data": {
      "text/plain": [
       "198    33.0\n",
       "396    28.0\n",
       "33     19.0\n",
       "208    13.0\n",
       "93     14.0\n",
       "84     27.0\n",
       "373    24.0\n",
       "94     13.0\n",
       "222    17.0\n",
       "126    21.0\n",
       "Name: mpg, dtype: float64"
      ]
     },
     "execution_count": 59,
     "metadata": {},
     "output_type": "execute_result"
    }
   ],
   "source": [
    "y_mpg_test[:10]"
   ]
  },
  {
   "cell_type": "code",
   "execution_count": 60,
   "id": "92e92334",
   "metadata": {},
   "outputs": [
    {
     "data": {
      "text/plain": [
       "10.182896418983752"
      ]
     },
     "metadata": {},
     "output_type": "display_data"
    },
    {
     "data": {
      "text/plain": [
       "3.1910650916243863"
      ]
     },
     "execution_count": 60,
     "metadata": {},
     "output_type": "execute_result"
    }
   ],
   "source": [
    "from sklearn.metrics import mean_squared_error\n",
    "import math\n",
    "\n",
    "mse = mean_squared_error(y_mpg_test, predicoes_mpg)\n",
    "\n",
    "display(mse)\n",
    "\n",
    "rmse = math.sqrt(mse)\n",
    "\n",
    "rmse\n",
    "\n"
   ]
  },
  {
   "cell_type": "code",
   "execution_count": null,
   "id": "5a2b45a7",
   "metadata": {},
   "outputs": [],
   "source": []
  }
 ],
 "metadata": {
  "kernelspec": {
   "display_name": "Python 3 (ipykernel)",
   "language": "python",
   "name": "python3"
  },
  "language_info": {
   "codemirror_mode": {
    "name": "ipython",
    "version": 3
   },
   "file_extension": ".py",
   "mimetype": "text/x-python",
   "name": "python",
   "nbconvert_exporter": "python",
   "pygments_lexer": "ipython3",
   "version": "3.9.0"
  }
 },
 "nbformat": 4,
 "nbformat_minor": 5
}
